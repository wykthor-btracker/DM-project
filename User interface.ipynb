{
 "cells": [
  {
   "cell_type": "code",
   "execution_count": 1,
   "metadata": {},
   "outputs": [],
   "source": [
    "from pandas import read_csv\n",
    "from pickle import load\n",
    "from numpy import array\n",
    "import tkinter as tk\n",
    "from tkinter import messagebox"
   ]
  },
  {
   "cell_type": "markdown",
   "metadata": {},
   "source": [
    "## Retrieving trained model"
   ]
  },
  {
   "cell_type": "code",
   "execution_count": 2,
   "metadata": {},
   "outputs": [],
   "source": [
    "with open(\"LogReg.pickle\",\"rb\") as f:\n",
    "    model = load(f)"
   ]
  },
  {
   "cell_type": "markdown",
   "metadata": {},
   "source": [
    "# Getting column names"
   ]
  },
  {
   "cell_type": "code",
   "execution_count": 3,
   "metadata": {},
   "outputs": [],
   "source": [
    "f  = read_csv(\"reducedExams.csv\",index_col=\"Last Name:\")"
   ]
  },
  {
   "cell_type": "code",
   "execution_count": 4,
   "metadata": {},
   "outputs": [],
   "source": [
    "nomes = list(f.head().columns[:-1])"
   ]
  },
  {
   "cell_type": "code",
   "execution_count": 10,
   "metadata": {},
   "outputs": [],
   "source": [
    "class MainWindow(tk.Frame):\n",
    "    counter = 0\n",
    "    def __init__(self, *args, **kwargs):\n",
    "        tk.Frame.__init__(self, *args, **kwargs)\n",
    "        self.button = tk.Button(self, text=\"Calcular novo paciente\", \n",
    "                                command=self.create_window)\n",
    "        self.button.pack(side=\"top\")\n",
    "        self.text = tk.Label(self,text=\"Diagnóstico\")\n",
    "        self.text.pack(side=\"bottom\")\n",
    "        self.result = []\n",
    "        \n",
    "    def create_window(self):\n",
    "        self.counter += 1\n",
    "        t = tk.Toplevel(self)\n",
    "        t.wm_title(\"Calcular Parametros\")\n",
    "        inputParameters(nomes,t,self)\n",
    "        \n",
    "    def calculate(self):\n",
    "        try:\n",
    "            list(map(lambda x:float(x),self.result))\n",
    "        except Exception as e:\n",
    "            messagebox.showerror(\"Error\", \"Entrada inválida!\")\n",
    "            return None\n",
    "        self.result = list(map(lambda x:0 if x==\"\" else float(x),self.result))\n",
    "        text = model.predict(array(self.result).reshape(1,-1))[0]\n",
    "        if(text):\n",
    "            text = \"Ceratocone\"\n",
    "        else:\n",
    "            text= \"Normal\"\n",
    "        self.text.config(text=text)"
   ]
  },
  {
   "cell_type": "code",
   "execution_count": 6,
   "metadata": {},
   "outputs": [],
   "source": [
    "def getInput(campos,window,instance):\n",
    "    text = []\n",
    "    for campo in campos:\n",
    "        text.append(campo.get())\n",
    "    window.destroy()\n",
    "    instance.result = text\n",
    "    instance.calculate()"
   ]
  },
  {
   "cell_type": "code",
   "execution_count": 7,
   "metadata": {},
   "outputs": [],
   "source": [
    "def inputParameters(nomes,root,instance):\n",
    "    campos = []\n",
    "    for campo in range(len(nomes)):\n",
    "        tk.Label(root,text=nomes[campo]).grid(row=campo)\n",
    "        bla = tk.Entry(root)\n",
    "        bla.grid(row=campo,column=1)\n",
    "        campos.append(bla)\n",
    "    tk.Button(root, text = \"enviar\",\n",
    "               command = lambda: getInput(campos,root,instance)).grid(row = campo+1)#Lambda hacking the parameters of the button to be able to pass parameters"
   ]
  },
  {
   "cell_type": "code",
   "execution_count": 11,
   "metadata": {
    "scrolled": false
   },
   "outputs": [],
   "source": [
    "root = tk.Tk()\n",
    "main = MainWindow(root)\n",
    "main.pack(side=\"top\", fill=\"both\", expand=True)\n",
    "root.mainloop()"
   ]
  }
 ],
 "metadata": {
  "kernelspec": {
   "display_name": "Python 3",
   "language": "python",
   "name": "python3"
  },
  "language_info": {
   "codemirror_mode": {
    "name": "ipython",
    "version": 3
   },
   "file_extension": ".py",
   "mimetype": "text/x-python",
   "name": "python",
   "nbconvert_exporter": "python",
   "pygments_lexer": "ipython3",
   "version": "3.7.0"
  }
 },
 "nbformat": 4,
 "nbformat_minor": 2
}
