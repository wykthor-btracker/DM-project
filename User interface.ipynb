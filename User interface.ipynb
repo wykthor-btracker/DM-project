{
 "cells": [
  {
   "cell_type": "code",
   "execution_count": 222,
   "metadata": {},
   "outputs": [],
   "source": [
    "from pandas import read_csv\n",
    "from pickle import load\n",
    "from numpy import array\n",
    "import tkinter as tk\n",
    "from tkinter import messagebox"
   ]
  },
  {
   "cell_type": "markdown",
   "metadata": {},
   "source": [
    "## Retrieving trained model"
   ]
  },
  {
   "cell_type": "code",
   "execution_count": 223,
   "metadata": {},
   "outputs": [],
   "source": [
    "with open(\"LogReg.pickle\",\"rb\") as f:\n",
    "    model = load(f)"
   ]
  },
  {
   "cell_type": "markdown",
   "metadata": {},
   "source": [
    "# Getting column names"
   ]
  },
  {
   "cell_type": "code",
   "execution_count": 224,
   "metadata": {},
   "outputs": [],
   "source": [
    "f  = read_csv(\"reducedExams.csv\",index_col=\"Last Name:\")"
   ]
  },
  {
   "cell_type": "code",
   "execution_count": 225,
   "metadata": {},
   "outputs": [
    {
     "data": {
      "text/html": [
       "<div>\n",
       "<style scoped>\n",
       "    .dataframe tbody tr th:only-of-type {\n",
       "        vertical-align: middle;\n",
       "    }\n",
       "\n",
       "    .dataframe tbody tr th {\n",
       "        vertical-align: top;\n",
       "    }\n",
       "\n",
       "    .dataframe thead th {\n",
       "        text-align: right;\n",
       "    }\n",
       "</style>\n",
       "<table border=\"1\" class=\"dataframe\">\n",
       "  <thead>\n",
       "    <tr style=\"text-align: right;\">\n",
       "      <th></th>\n",
       "      <th>A1 Time [ms]</th>\n",
       "      <th>HC Time [ms]</th>\n",
       "      <th>A1 Deflection Length [mm]</th>\n",
       "      <th>A2 Deflection Amp. [mm]</th>\n",
       "      <th>A1 Deflection Area [mm²]</th>\n",
       "      <th>HC Deflection Area [mm²]</th>\n",
       "      <th>A2 Deflection Area [mm²]</th>\n",
       "      <th>dArcLengthMax [mm]</th>\n",
       "      <th>DA Ratio Max (2mm)</th>\n",
       "      <th>DA Ratio Max (1mm)</th>\n",
       "      <th>Tipo</th>\n",
       "    </tr>\n",
       "    <tr>\n",
       "      <th>Last Name:</th>\n",
       "      <th></th>\n",
       "      <th></th>\n",
       "      <th></th>\n",
       "      <th></th>\n",
       "      <th></th>\n",
       "      <th></th>\n",
       "      <th></th>\n",
       "      <th></th>\n",
       "      <th></th>\n",
       "      <th></th>\n",
       "      <th></th>\n",
       "    </tr>\n",
       "  </thead>\n",
       "  <tbody>\n",
       "    <tr>\n",
       "      <th>d632a062e3</th>\n",
       "      <td>7.230</td>\n",
       "      <td>17.325</td>\n",
       "      <td>2.206</td>\n",
       "      <td>0.122</td>\n",
       "      <td>0.161</td>\n",
       "      <td>2.799</td>\n",
       "      <td>0.276</td>\n",
       "      <td>-0.164</td>\n",
       "      <td>4.46588</td>\n",
       "      <td>1.61629</td>\n",
       "      <td>0</td>\n",
       "    </tr>\n",
       "    <tr>\n",
       "      <th>69e2428fb9</th>\n",
       "      <td>7.229</td>\n",
       "      <td>16.632</td>\n",
       "      <td>2.283</td>\n",
       "      <td>0.129</td>\n",
       "      <td>0.173</td>\n",
       "      <td>3.617</td>\n",
       "      <td>0.307</td>\n",
       "      <td>-0.184</td>\n",
       "      <td>4.66293</td>\n",
       "      <td>1.64031</td>\n",
       "      <td>0</td>\n",
       "    </tr>\n",
       "    <tr>\n",
       "      <th>24cb6160cf</th>\n",
       "      <td>7.343</td>\n",
       "      <td>16.863</td>\n",
       "      <td>2.339</td>\n",
       "      <td>0.098</td>\n",
       "      <td>0.205</td>\n",
       "      <td>2.815</td>\n",
       "      <td>0.179</td>\n",
       "      <td>-0.135</td>\n",
       "      <td>4.13540</td>\n",
       "      <td>1.55326</td>\n",
       "      <td>0</td>\n",
       "    </tr>\n",
       "    <tr>\n",
       "      <th>9c187d0c2e</th>\n",
       "      <td>7.157</td>\n",
       "      <td>17.325</td>\n",
       "      <td>2.376</td>\n",
       "      <td>0.120</td>\n",
       "      <td>0.166</td>\n",
       "      <td>3.009</td>\n",
       "      <td>0.304</td>\n",
       "      <td>-0.169</td>\n",
       "      <td>4.35460</td>\n",
       "      <td>1.60187</td>\n",
       "      <td>0</td>\n",
       "    </tr>\n",
       "    <tr>\n",
       "      <th>ac48bfddfc</th>\n",
       "      <td>7.202</td>\n",
       "      <td>16.632</td>\n",
       "      <td>1.987</td>\n",
       "      <td>0.096</td>\n",
       "      <td>0.151</td>\n",
       "      <td>2.840</td>\n",
       "      <td>0.189</td>\n",
       "      <td>-0.121</td>\n",
       "      <td>4.20317</td>\n",
       "      <td>1.62950</td>\n",
       "      <td>0</td>\n",
       "    </tr>\n",
       "  </tbody>\n",
       "</table>\n",
       "</div>"
      ],
      "text/plain": [
       "            A1 Time [ms]  HC Time [ms]  A1 Deflection Length [mm]  \\\n",
       "Last Name:                                                          \n",
       "d632a062e3         7.230        17.325                      2.206   \n",
       "69e2428fb9         7.229        16.632                      2.283   \n",
       "24cb6160cf         7.343        16.863                      2.339   \n",
       "9c187d0c2e         7.157        17.325                      2.376   \n",
       "ac48bfddfc         7.202        16.632                      1.987   \n",
       "\n",
       "            A2 Deflection Amp. [mm]  A1 Deflection Area [mm²]  \\\n",
       "Last Name:                                                      \n",
       "d632a062e3                    0.122                     0.161   \n",
       "69e2428fb9                    0.129                     0.173   \n",
       "24cb6160cf                    0.098                     0.205   \n",
       "9c187d0c2e                    0.120                     0.166   \n",
       "ac48bfddfc                    0.096                     0.151   \n",
       "\n",
       "            HC Deflection Area [mm²]  A2 Deflection Area [mm²]  \\\n",
       "Last Name:                                                       \n",
       "d632a062e3                     2.799                     0.276   \n",
       "69e2428fb9                     3.617                     0.307   \n",
       "24cb6160cf                     2.815                     0.179   \n",
       "9c187d0c2e                     3.009                     0.304   \n",
       "ac48bfddfc                     2.840                     0.189   \n",
       "\n",
       "            dArcLengthMax [mm]  DA Ratio Max (2mm)  DA Ratio Max (1mm)  Tipo  \n",
       "Last Name:                                                                    \n",
       "d632a062e3              -0.164             4.46588             1.61629     0  \n",
       "69e2428fb9              -0.184             4.66293             1.64031     0  \n",
       "24cb6160cf              -0.135             4.13540             1.55326     0  \n",
       "9c187d0c2e              -0.169             4.35460             1.60187     0  \n",
       "ac48bfddfc              -0.121             4.20317             1.62950     0  "
      ]
     },
     "execution_count": 225,
     "metadata": {},
     "output_type": "execute_result"
    }
   ],
   "source": [
    "f[f[\"Tipo\"]==0].head()"
   ]
  },
  {
   "cell_type": "code",
   "execution_count": 226,
   "metadata": {},
   "outputs": [],
   "source": [
    "nomes = list(f.head().columns[:-1])"
   ]
  },
  {
   "cell_type": "code",
   "execution_count": 227,
   "metadata": {},
   "outputs": [],
   "source": [
    "class MainWindow(tk.Frame):\n",
    "    counter = 0\n",
    "    def __init__(self, *args, **kwargs):\n",
    "        tk.Frame.__init__(self, *args, **kwargs)\n",
    "        self.button = tk.Button(self, text=\"Calcular novo paciente\", \n",
    "                                command=self.create_window)\n",
    "        self.button.pack(side=\"top\")\n",
    "        self.text = tk.Label(self,text=\"\")\n",
    "        self.text.pack(side=\"bottom\")\n",
    "        self.result = []\n",
    "        \n",
    "    def create_window(self):\n",
    "        self.counter += 1\n",
    "        t = tk.Toplevel(self)\n",
    "        t.wm_title(\"Calcular Parametros\")\n",
    "        inputParameters(nomes,t,self)\n",
    "        \n",
    "    def calculate(self):\n",
    "        try:\n",
    "            map(lambda x:float(x),self.result)\n",
    "        except Exception as e:\n",
    "            messagebox.showerror(\"Error\", \"Entrada inválida!\")\n",
    "            return None\n",
    "        self.result = list(map(lambda x:0 if x==\"\" else float(x),self.result))\n",
    "        text = model.predict(array(self.result).reshape(1,-1))[0]\n",
    "        if(text):\n",
    "            text = \"Ceratocone\"\n",
    "        else:\n",
    "            text= \"Normal\"\n",
    "        self.text.config(text=text)"
   ]
  },
  {
   "cell_type": "code",
   "execution_count": 228,
   "metadata": {},
   "outputs": [],
   "source": [
    "def getInput(campos,window,instance):\n",
    "    text = []\n",
    "    for campo in campos:\n",
    "        text.append(campo.get())\n",
    "    window.destroy()\n",
    "    instance.result = text #A little hardcoding in UI is essential\n",
    "    instance.calculate()"
   ]
  },
  {
   "cell_type": "code",
   "execution_count": 229,
   "metadata": {},
   "outputs": [],
   "source": [
    "def inputParameters(nomes,root,instance):\n",
    "    campos = []\n",
    "    for campo in range(len(nomes)):\n",
    "        tk.Label(root,text=nomes[campo]).grid(row=campo)\n",
    "        bla = tk.Entry(root)\n",
    "        bla.grid(row=campo,column=1)\n",
    "        campos.append(bla)\n",
    "    tk.Button(root, text = \"enviar\",\n",
    "               command = lambda: getInput(campos,root,instance)).grid(row = campo+1)#Lambda hacking the parameters of the button to be able to pass parameters"
   ]
  },
  {
   "cell_type": "code",
   "execution_count": null,
   "metadata": {},
   "outputs": [],
   "source": [
    "root = tk.Tk()\n",
    "main = MainWindow(root)\n",
    "main.pack(side=\"top\", fill=\"both\", expand=True)\n",
    "root.mainloop()"
   ]
  }
 ],
 "metadata": {
  "kernelspec": {
   "display_name": "Python 3",
   "language": "python",
   "name": "python3"
  },
  "language_info": {
   "codemirror_mode": {
    "name": "ipython",
    "version": 3
   },
   "file_extension": ".py",
   "mimetype": "text/x-python",
   "name": "python",
   "nbconvert_exporter": "python",
   "pygments_lexer": "ipython3",
   "version": "3.7.0"
  }
 },
 "nbformat": 4,
 "nbformat_minor": 2
}
