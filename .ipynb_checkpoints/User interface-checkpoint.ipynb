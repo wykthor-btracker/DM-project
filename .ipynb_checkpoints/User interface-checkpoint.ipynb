{
 "cells": [
  {
   "cell_type": "code",
   "execution_count": 1,
   "metadata": {},
   "outputs": [],
   "source": [
    "import tkinter as tk"
   ]
  },
  {
   "cell_type": "code",
   "execution_count": 16,
   "metadata": {},
   "outputs": [],
   "source": [
    "nomes = [\"Um\",\"Dois\",\"Três\"]"
   ]
  },
  {
   "cell_type": "code",
   "execution_count": 41,
   "metadata": {},
   "outputs": [],
   "source": [
    "root = tk.Tk(screenName=\":1.0\")\n",
    "campos = []\n",
    "for campo in range(len(nomes)):\n",
    "    tk.Label(root,text=nomes[campo]).grid(row=campo)\n",
    "    bla = tk.Entry(root)\n",
    "    bla.grid(row=campo,column=1)\n",
    "    campos.append(bla)"
   ]
  },
  {
   "cell_type": "markdown",
   "metadata": {},
   "source": [
    "- Hard coding is made necessary due to Tkinter"
   ]
  },
  {
   "cell_type": "code",
   "execution_count": 42,
   "metadata": {},
   "outputs": [],
   "source": [
    "def getInput(campos,window,reference):\n",
    "    text = []\n",
    "    for campo in campos:\n",
    "        text.append(campo.get())\n",
    "    window.destroy()\n",
    "    reference[0] = text"
   ]
  },
  {
   "cell_type": "code",
   "execution_count": 43,
   "metadata": {},
   "outputs": [],
   "source": [
    "reference = [None]\n",
    "tk.Button(root, text = \"submit\",\n",
    "           command = lambda: getInput(campos,root,reference)).grid(row = campo+1)"
   ]
  },
  {
   "cell_type": "code",
   "execution_count": 44,
   "metadata": {},
   "outputs": [
    {
     "name": "stderr",
     "output_type": "stream",
     "text": [
      "Exception in Tkinter callback\n",
      "Traceback (most recent call last):\n",
      "  File \"/home/wykthor/anaconda3/lib/python3.7/tkinter/__init__.py\", line 1702, in __call__\n",
      "    return self.func(*args)\n",
      "  File \"<ipython-input-43-489a807b6bfc>\", line 3, in <lambda>\n",
      "    command = lambda: getInput(campos,root,reference)).grid(row = campo+1)\n",
      "  File \"<ipython-input-42-8f6560442273>\", line 6, in getInput\n",
      "    reference[0] = text\n",
      "IndexError: list assignment index out of range\n"
     ]
    }
   ],
   "source": [
    "root.mainloop()"
   ]
  },
  {
   "cell_type": "code",
   "execution_count": null,
   "metadata": {},
   "outputs": [],
   "source": []
  }
 ],
 "metadata": {
  "kernelspec": {
   "display_name": "Python 3",
   "language": "python",
   "name": "python3"
  },
  "language_info": {
   "codemirror_mode": {
    "name": "ipython",
    "version": 3
   },
   "file_extension": ".py",
   "mimetype": "text/x-python",
   "name": "python",
   "nbconvert_exporter": "python",
   "pygments_lexer": "ipython3",
   "version": "3.7.0"
  }
 },
 "nbformat": 4,
 "nbformat_minor": 2
}
